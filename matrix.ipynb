{
 "cells": [
  {
   "cell_type": "code",
   "execution_count": 1,
   "metadata": {},
   "outputs": [],
   "source": [
    "from __future__ import division\n",
    "\n",
    "from sympy import *\n",
    "from sympy.matrices import *\n",
    "\n",
    "init_printing(use_unicode=True)"
   ]
  },
  {
   "cell_type": "code",
   "execution_count": 2,
   "metadata": {},
   "outputs": [],
   "source": [
    "n, omega, Lc, Rc = symbols(\"n \\\\omega L_c R_c\")\n",
    "gamma, L, Zc = symbols(\"\\\\gamma L Z_c\")"
   ]
  },
  {
   "cell_type": "markdown",
   "metadata": {},
   "source": [
    "| ![transmission line](./Diagram1.png) |\n",
    "|:--:|\n",
    "|*Equivalent circuit of the transmission line coupled by the magnetic field*|"
   ]
  },
  {
   "cell_type": "markdown",
   "metadata": {},
   "source": [
    "This may be represented by a matrix\n",
    "$$[A_{SUM}] = [A_{tr1}][A_{wg}][A_{tr2}]$$"
   ]
  },
  {
   "cell_type": "code",
   "execution_count": 3,
   "metadata": {},
   "outputs": [
    {
     "data": {
      "image/png": "[encoded data removed]",
      "text/latex": [
       "$$\\left[\\begin{matrix}n & 0\\\\0 & \\frac{1}{n}\\end{matrix}\\right]$$"
      ],
      "text/plain": [
       "⎡n  0⎤\n",
       "⎢    ⎥\n",
       "⎢   1⎥\n",
       "⎢0  ─⎥\n",
       "⎣   n⎦"
      ]
     },
     "execution_count": 3,
     "metadata": {},
     "output_type": "execute_result"
    }
   ],
   "source": [
    "Atr1 = Matrix([[n, 0], [0, 1/n]])\n",
    "Atr1"
   ]
  },
  {
   "cell_type": "code",
   "execution_count": 4,
   "metadata": {},
   "outputs": [
    {
     "data": {
      "image/png": "[encoded data removed]",
      "text/latex": [
       "$$\\left[\\begin{matrix}\\frac{1}{n} & 0\\\\0 & n\\end{matrix}\\right]$$"
      ],
      "text/plain": [
       "⎡1   ⎤\n",
       "⎢─  0⎥\n",
       "⎢n   ⎥\n",
       "⎢    ⎥\n",
       "⎣0  n⎦"
      ]
     },
     "execution_count": 4,
     "metadata": {},
     "output_type": "execute_result"
    }
   ],
   "source": [
    "Atr2 = Matrix([[1/n, 0], [0, n]])\n",
    "Atr2"
   ]
  },
  {
   "cell_type": "markdown",
   "metadata": {},
   "source": [
    "## Transformation of waveguide $S$ matrix to $A$"
   ]
  },
  {
   "cell_type": "markdown",
   "metadata": {},
   "source": [
    "We will take a well-known S-matrix form of the transmission line."
   ]
  },
  {
   "cell_type": "code",
   "execution_count": 5,
   "metadata": {},
   "outputs": [
    {
     "data": {
      "image/png": "[encoded data removed]",
      "text/latex": [
       "$$\\left[\\begin{matrix}0 & e^{- L \\gamma}\\\\e^{- L \\gamma} & 0\\end{matrix}\\right]$$"
      ],
      "text/plain": [
       "⎡             -L⋅\\gamma⎤\n",
       "⎢    0       ℯ         ⎥\n",
       "⎢                      ⎥\n",
       "⎢ -L⋅\\gamma            ⎥\n",
       "⎣ℯ               0     ⎦"
      ]
     },
     "execution_count": 5,
     "metadata": {},
     "output_type": "execute_result"
    }
   ],
   "source": [
    "S = Matrix([[0, exp(-gamma*L)], [exp(-gamma*L),0]])\n",
    "S"
   ]
  },
  {
   "cell_type": "markdown",
   "metadata": {},
   "source": [
    "where $\\gamma = \\alpha - i \\beta$"
   ]
  },
  {
   "cell_type": "markdown",
   "metadata": {},
   "source": [
    "And convert it to A form"
   ]
  },
  {
   "cell_type": "markdown",
   "metadata": {},
   "source": [
    "| $$Z = \\sqrt{Z}(I+S)(I-S)^{-1}\\sqrt{Z}$$ |\n",
    "|:---:|\n",
    "|*S -> Z matrix conversion*|"
   ]
  },
  {
   "cell_type": "code",
   "execution_count": 6,
   "metadata": {},
   "outputs": [
    {
     "data": {
      "image/png": "[encoded data removed]",
      "text/latex": [
       "$$\\left[\\begin{matrix}\\frac{Z_{c}}{\\tanh{\\left (L \\gamma \\right )}} & \\frac{Z_{c}}{\\sinh{\\left (L \\gamma \\right )}}\\\\\\frac{Z_{c}}{\\sinh{\\left (L \\gamma \\right )}} & \\frac{Z_{c}}{\\tanh{\\left (L \\gamma \\right )}}\\end{matrix}\\right]$$"
      ],
      "text/plain": [
       "⎡     Z_c             Z_c      ⎤\n",
       "⎢──────────────  ──────────────⎥\n",
       "⎢tanh(L⋅\\gamma)  sinh(L⋅\\gamma)⎥\n",
       "⎢                              ⎥\n",
       "⎢     Z_c             Z_c      ⎥\n",
       "⎢──────────────  ──────────────⎥\n",
       "⎣sinh(L⋅\\gamma)  tanh(L⋅\\gamma)⎦"
      ]
     },
     "execution_count": 6,
     "metadata": {},
     "output_type": "execute_result"
    }
   ],
   "source": [
    "sqrtZ = Matrix([[sqrt(Zc),0],[0,sqrt(Zc)]])\n",
    "Z = simplify(sqrtZ*(eye(2)+S)*(eye(2)-S).inv()*sqrtZ)\n",
    "Z"
   ]
  },
  {
   "cell_type": "markdown",
   "metadata": {},
   "source": [
    "|$$\n",
    "A =\n",
    "\\begin{bmatrix}\n",
    "\\frac{Z_{11}}{Z_21} & \\frac{\\det{Z}}{Z_{21}} \\\\\n",
    "\\frac{1}{Z_{21}} & \\frac{Z_{22}}{Z_{21}} \\\\\n",
    "\\end{bmatrix}\n",
    "$$|\n",
    "|:---:|\n",
    "|*Z -> A matrix conversion*|"
   ]
  },
  {
   "cell_type": "code",
   "execution_count": 7,
   "metadata": {
    "scrolled": true
   },
   "outputs": [
    {
     "data": {
      "image/png": "[encoded data removed]",
      "text/latex": [
       "$$\\left[\\begin{matrix}\\cosh{\\left (L \\gamma \\right )} & Z_{c} \\sinh{\\left (L \\gamma \\right )}\\\\\\frac{\\sinh{\\left (L \\gamma \\right )}}{Z_{c}} & \\cosh{\\left (L \\gamma \\right )}\\end{matrix}\\right]$$"
      ],
      "text/plain": [
       "⎡cosh(L⋅\\gamma)  Z_c⋅sinh(L⋅\\gamma)⎤\n",
       "⎢                                  ⎥\n",
       "⎢sinh(L⋅\\gamma)                    ⎥\n",
       "⎢──────────────    cosh(L⋅\\gamma)  ⎥\n",
       "⎣     Z_c                          ⎦"
      ]
     },
     "execution_count": 7,
     "metadata": {},
     "output_type": "execute_result"
    }
   ],
   "source": [
    "Awg = Matrix([[Z[0,0]/Z[1,0],Z.det()/Z[1,0]],[1/Z[1,0],Z[1,1]/Z[1,0]]])\n",
    "Awg = simplify(Awg)\n",
    "Awg"
   ]
  },
  {
   "cell_type": "markdown",
   "metadata": {},
   "source": [
    "A-matrix of the device is:"
   ]
  },
  {
   "cell_type": "code",
   "execution_count": 8,
   "metadata": {},
   "outputs": [
    {
     "data": {
      "image/png": "[encoded data removed]",
      "text/latex": [
       "$$\\left[\\begin{matrix}\\cosh{\\left (L \\gamma \\right )} & Z_{c} n^{2} \\sinh{\\left (L \\gamma \\right )}\\\\\\frac{\\sinh{\\left (L \\gamma \\right )}}{Z_{c} n^{2}} & \\cosh{\\left (L \\gamma \\right )}\\end{matrix}\\right]$$"
      ],
      "text/plain": [
       "⎡                     2               ⎤\n",
       "⎢cosh(L⋅\\gamma)  Z_c⋅n ⋅sinh(L⋅\\gamma)⎥\n",
       "⎢                                     ⎥\n",
       "⎢sinh(L⋅\\gamma)                       ⎥\n",
       "⎢──────────────     cosh(L⋅\\gamma)    ⎥\n",
       "⎢         2                           ⎥\n",
       "⎣    Z_c⋅n                            ⎦"
      ]
     },
     "execution_count": 8,
     "metadata": {},
     "output_type": "execute_result"
    }
   ],
   "source": [
    "SUM = simplify(Atr1*Awg*Atr2)\n",
    "SUM"
   ]
  },
  {
   "cell_type": "markdown",
   "metadata": {},
   "source": [
    "Check, if the determinant is 1."
   ]
  },
  {
   "cell_type": "code",
   "execution_count": 9,
   "metadata": {},
   "outputs": [
    {
     "data": {
      "image/png": "[encoded data removed]",
      "text/latex": [
       "$$1$$"
      ],
      "text/plain": [
       "1"
      ]
     },
     "execution_count": 9,
     "metadata": {},
     "output_type": "execute_result"
    }
   ],
   "source": [
    "simplify(SUM[0,0]*SUM[1,1]-SUM[0,1]*SUM[1,0])"
   ]
  },
  {
   "cell_type": "markdown",
   "metadata": {},
   "source": [
    "It is. So we can use the passive equivalent circuit."
   ]
  },
  {
   "cell_type": "markdown",
   "metadata": {},
   "source": [
    "| ![transmission line equivalent circuit](./Diagram2.png) |\n",
    "|:--:| \n",
    "|*Equivalent circuit of an A-matrix*|"
   ]
  },
  {
   "cell_type": "code",
   "execution_count": 10,
   "metadata": {},
   "outputs": [],
   "source": [
    "Z1 = expand(simplify((SUM[0,0]-1)/SUM[1,0]))"
   ]
  },
  {
   "cell_type": "code",
   "execution_count": 11,
   "metadata": {},
   "outputs": [
    {
     "data": {
      "image/png": "[encoded data removed]",
      "text/latex": [
       "$$\\frac{Z_{c} n^{2} \\cosh{\\left (L \\gamma \\right )}}{\\sinh{\\left (L \\gamma \\right )}} - \\frac{Z_{c} n^{2}}{\\sinh{\\left (L \\gamma \\right )}}$$"
      ],
      "text/plain": [
       "     2                           2    \n",
       "Z_c⋅n ⋅cosh(L⋅\\gamma)       Z_c⋅n     \n",
       "───────────────────── - ──────────────\n",
       "    sinh(L⋅\\gamma)      sinh(L⋅\\gamma)"
      ]
     },
     "execution_count": 11,
     "metadata": {},
     "output_type": "execute_result"
    }
   ],
   "source": [
    "Z1"
   ]
  },
  {
   "cell_type": "code",
   "execution_count": 12,
   "metadata": {},
   "outputs": [],
   "source": [
    "Z2 = expand(simplify((SUM[1,1]-1)/SUM[1,0]))"
   ]
  },
  {
   "cell_type": "code",
   "execution_count": 13,
   "metadata": {},
   "outputs": [
    {
     "data": {
      "image/png": "[encoded data removed]",
      "text/latex": [
       "$$\\frac{Z_{c} n^{2} \\cosh{\\left (L \\gamma \\right )}}{\\sinh{\\left (L \\gamma \\right )}} - \\frac{Z_{c} n^{2}}{\\sinh{\\left (L \\gamma \\right )}}$$"
      ],
      "text/plain": [
       "     2                           2    \n",
       "Z_c⋅n ⋅cosh(L⋅\\gamma)       Z_c⋅n     \n",
       "───────────────────── - ──────────────\n",
       "    sinh(L⋅\\gamma)      sinh(L⋅\\gamma)"
      ]
     },
     "execution_count": 13,
     "metadata": {},
     "output_type": "execute_result"
    }
   ],
   "source": [
    "Z2"
   ]
  },
  {
   "cell_type": "code",
   "execution_count": 14,
   "metadata": {},
   "outputs": [],
   "source": [
    "Z3 = simplify(1/SUM[1,0])"
   ]
  },
  {
   "cell_type": "code",
   "execution_count": 15,
   "metadata": {},
   "outputs": [
    {
     "data": {
      "image/png": "[encoded data removed]",
      "text/latex": [
       "$$\\frac{Z_{c} n^{2}}{\\sinh{\\left (L \\gamma \\right )}}$$"
      ],
      "text/plain": [
       "         2    \n",
       "    Z_c⋅n     \n",
       "──────────────\n",
       "sinh(L⋅\\gamma)"
      ]
     },
     "execution_count": 15,
     "metadata": {},
     "output_type": "execute_result"
    }
   ],
   "source": [
    "Z3"
   ]
  },
  {
   "cell_type": "markdown",
   "metadata": {},
   "source": [
    "Frequently $Z_1$ and $Z_2$ are expressed in different forms:"
   ]
  },
  {
   "cell_type": "markdown",
   "metadata": {},
   "source": [
    "$$\n",
    "\\frac{\\cosh{L\\gamma}}{\\sinh{L\\gamma}}-\n",
    "\\frac{1}{\\sinh{L\\gamma}}\n",
    "=\n",
    "\\frac{\\cosh{L\\gamma} - 1}{\\sinh{L\\gamma}}\n",
    "=\n",
    "\\tanh{\\frac{L\\gamma}{2}}\n",
    "$$"
   ]
  },
  {
   "cell_type": "markdown",
   "metadata": {},
   "source": [
    "For lossless lines:\n",
    "$$\n",
    "\\tanh{\\frac{i k L}{2}}\n",
    "=\n",
    "i \\tan{\\frac{k L}{2}}\n",
    "$$\n",
    "$$\n",
    "\\sinh{i k L}\n",
    "=\n",
    "i \\sin{k L}\n",
    "$$"
   ]
  },
  {
   "cell_type": "markdown",
   "metadata": {},
   "source": [
    "These results may be found in a lot of books."
   ]
  }
 ],
 "metadata": {
  "kernelspec": {
   "display_name": "Python 3",
   "language": "python",
   "name": "python3"
  },
  "language_info": {
   "codemirror_mode": {
    "name": "ipython",
    "version": 3
   },
   "file_extension": ".py",
   "mimetype": "text/x-python",
   "name": "python",
   "nbconvert_exporter": "python",
   "pygments_lexer": "ipython3",
   "version": "3.6.6"
  }
 },
 "nbformat": 4,
 "nbformat_minor": 2
}
